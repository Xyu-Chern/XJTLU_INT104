{
 "cells": [
  {
   "cell_type": "markdown",
   "id": "64178c6f",
   "metadata": {},
   "source": [
    "# More containers\n",
    "The **data structures** we studied previously are useful but what if we want to group multiple ones together?\n",
    "# 1. Lists\n",
    "Probably the most commonly used data structure in Python. Lists simply group multiple variables together. Lists are declared with square brackets `[]` and items within them are separated by commas. We can declare an empty list `x = []` but that's not very useful."
   ]
  },
  {
   "cell_type": "code",
   "execution_count": null,
   "id": "bda14278",
   "metadata": {},
   "outputs": [],
   "source": [
    "fruits = [\"apple\", \"orange\", \"tomato\", \"banana\"]  # a list of strings\n",
    "print(type(fruits))\n",
    "print(fruits)"
   ]
  },
  {
   "cell_type": "markdown",
   "id": "a6e19bcc",
   "metadata": {},
   "source": [
    "So why is that so useful? It allows us so to group similar data together and use it and apply a single operation to the whole group rather than applying the same operation multiple times for each item. More on that later.\n",
    "\n",
    "We can access each individual item within the list by **indexing** it."
   ]
  },
  {
   "cell_type": "code",
   "execution_count": null,
   "id": "b02eda8b",
   "metadata": {},
   "outputs": [],
   "source": [
    "fruits = [\"apple\", \"orange\", \"tomato\", \"banana\"]\n",
    "fruits[2]"
   ]
  },
  {
   "cell_type": "markdown",
   "id": "23f84f44",
   "metadata": {},
   "source": [
    "Huh? Why did that print `tomato` instead of `orange`? Is it supposed to print the 2nd item right? Not exactly. A list can be indexed starting from 0. Here is an image to illustrate this better:\n",
    "&nbsp;\n",
    "\n",
    "![List Indexing](https://i.imgur.com/2aHIjyI.png)\n",
    "\n",
    "&nbsp;\n",
    "&nbsp;\n",
    "\n",
    "What will happen if we want to access a index which is not currently assigned?"
   ]
  },
  {
   "cell_type": "code",
   "execution_count": null,
   "id": "a73cc42b",
   "metadata": {},
   "outputs": [],
   "source": [
    "fruits[4]"
   ]
  },
  {
   "cell_type": "markdown",
   "id": "493539e5",
   "metadata": {},
   "source": [
    "If there is no such item, then Python will simply throw out an error. So make sure you are always aware of the size of your list! One way to do this is using a **len()** which as implied returns the length(size) of any data structure:"
   ]
  },
  {
   "cell_type": "code",
   "execution_count": null,
   "id": "9c5880e4",
   "metadata": {},
   "outputs": [],
   "source": [
    "len(fruits)"
   ]
  },
  {
   "cell_type": "markdown",
   "id": "4eac93bd",
   "metadata": {},
   "source": [
    "Now for the serious question - is a tomato really a fruit? If you don't think so you can change it."
   ]
  },
  {
   "cell_type": "code",
   "execution_count": null,
   "id": "87d25c1b",
   "metadata": {},
   "outputs": [],
   "source": [
    "fruits[2] = \"peach\"\n",
    "print(fruits)"
   ]
  },
  {
   "cell_type": "markdown",
   "id": "c142f22c",
   "metadata": {},
   "source": [
    "This means that we can modify our list however we wish. For example to add a new fruit at the end of it and then remove our next not-a-fruit victim."
   ]
  },
  {
   "cell_type": "code",
   "execution_count": null,
   "id": "8ea293b0",
   "metadata": {},
   "outputs": [],
   "source": [
    "fruits.append(\"cherry\")    # add new item to list\n",
    "print(fruits)\n",
    "fruits.remove(\"orange\")  # remove orange from list\n",
    "print(fruits)"
   ]
  },
  {
   "cell_type": "markdown",
   "id": "60d821a5",
   "metadata": {},
   "source": [
    "That seems useful! Can we do the same with integers? Python actually offers various functions for generating numerical lists. The most useful out of which is:"
   ]
  },
  {
   "cell_type": "code",
   "execution_count": null,
   "id": "88db73d9",
   "metadata": {},
   "outputs": [],
   "source": [
    "nums = list(range(0, 100, 5))\n",
    "print(nums)"
   ]
  },
  {
   "cell_type": "code",
   "execution_count": null,
   "id": "90c7f13f",
   "metadata": {},
   "outputs": [],
   "source": [
    "nums = list(range(10))\n",
    "print(nums)"
   ]
  },
  {
   "cell_type": "markdown",
   "id": "a89530ff",
   "metadata": {},
   "source": [
    "You can also get only a part of a list you have already created. This is called **slicing** and can be done in various different ways:"
   ]
  },
  {
   "cell_type": "code",
   "execution_count": null,
   "id": "e5dc434e",
   "metadata": {},
   "outputs": [],
   "source": [
    "nums = list(range(0, 100, 5))\n",
    "print(nums)\n",
    "print(nums[1:5:2]) # Get from item 1(strating point) through item 5(end point, not incluted) with step size 2\n",
    "print(nums[0:3])   # Get items 0 through 3\n",
    "print(nums[4:])    # Get items 4 onwards\n",
    "print(nums[-1])    # Get the last item\n",
    "print(nums[::-1])  # Get the whole list backwards"
   ]
  },
  {
   "cell_type": "markdown",
   "id": "9a144fb0",
   "metadata": {},
   "source": [
    "Lists can also be used with other functions out of which some are:"
   ]
  },
  {
   "cell_type": "code",
   "execution_count": null,
   "id": "2f91794e",
   "metadata": {},
   "outputs": [],
   "source": [
    "print(len(nums))   # number of items within the list\n",
    "print(max(nums))   # the maximum value within the list\n",
    "print(min(nums))   # the minimum value within the list"
   ]
  },
  {
   "cell_type": "markdown",
   "id": "ec4c50d0",
   "metadata": {},
   "source": [
    "### Exercise_1\n",
    "The variable `increments` contains the numbers 0 to 99. Use list slicing to access the numbers from 50 to 75"
   ]
  },
  {
   "cell_type": "code",
   "execution_count": null,
   "id": "9d416cb9",
   "metadata": {},
   "outputs": [],
   "source": []
  },
  {
   "cell_type": "markdown",
   "id": "f7fd6a32",
   "metadata": {},
   "source": [
    "A list is an example of a **mutable** object - an object whose values can be changed.\n",
    "\n",
    "# 2. Tuples\n",
    "A tuple is the **immutable** counterpart of the list. It has similar functionality and uses but the items within it can't be changed. Declaring a tuple is similar to a list but instead of square brackets, you have to use normal parenthesis."
   ]
  },
  {
   "cell_type": "code",
   "execution_count": null,
   "id": "08897069",
   "metadata": {},
   "outputs": [],
   "source": [
    "fruits = (\"apple\", \"orange\", \"tomato\", \"banana\")  # now the tomato is a fruit forever\n",
    "print(type(fruits))\n",
    "print(fruits)"
   ]
  },
  {
   "cell_type": "markdown",
   "id": "de196cc7",
   "metadata": {},
   "source": [
    "What will happen if we try to change one of the items?"
   ]
  },
  {
   "cell_type": "code",
   "execution_count": null,
   "id": "ad5d21b7",
   "metadata": {},
   "outputs": [],
   "source": [
    "fruits[2] = \"peach\""
   ]
  },
  {
   "cell_type": "markdown",
   "id": "5be307d5",
   "metadata": {},
   "source": [
    "# 3. Sets\n",
    "- Lists can contain duplicate items, in contrast, a set contains no duplicates.\n",
    "- Sets are mutable and have similar functionality to a list\n",
    "- Can't be indexed or sliced similar to lists\n",
    "- Can be created directly from lists using the `set()` function.\n",
    "- Alternatively, we can also create them with curly brackets `{}`"
   ]
  },
  {
   "cell_type": "code",
   "execution_count": 2,
   "id": "a8dddb86",
   "metadata": {},
   "outputs": [
    {
     "name": "stdout",
     "output_type": "stream",
     "text": [
      "<class 'set'>\n",
      "{1, 2, 3}\n"
     ]
    },
    {
     "data": {
      "text/plain": [
       "True"
      ]
     },
     "execution_count": 2,
     "metadata": {},
     "output_type": "execute_result"
    }
   ],
   "source": [
    "x = {3, 3, 2, 1}       # a set created directly\n",
    "print(type(x))\n",
    "print(x)\n",
    "\n",
    "y = set([1, 2, 3, 3])  # a set created from a list\n",
    "\n",
    "x == y              # x and y are the same object"
   ]
  },
  {
   "cell_type": "markdown",
   "id": "dff744c8",
   "metadata": {},
   "source": [
    "### Exercise_2\n",
    "Use the no-duplicate policy of sets to get all the _distinct_ values in the list `x`, without repetition."
   ]
  },
  {
   "cell_type": "code",
   "execution_count": null,
   "id": "77a598c7",
   "metadata": {},
   "outputs": [],
   "source": [
    "x = [11, 15, 19, 9, 11, 18, 10, 16, 14, 9, 15, 0, 1, 1, 12, 11, 14, 11, 10, 14]\n",
    "\n",
    "# Get all the distinct values in the list x\n"
   ]
  },
  {
   "cell_type": "markdown",
   "id": "6aaffe43",
   "metadata": {},
   "source": [
    "# 4. Dictionaries\n",
    "As implied by the name, dictionaries are similar to actual dictionaries. They are similar to lists but instead of accessing values via their index, you access them via their key. For example, the Gaelic word *Halò*(Hello in English) and *Hello* will be our key. In that case, we can access the dictionary with:\n",
    "\n",
    "`dict[\"Hello\"]` and it will return `\"Halò\"`.\n",
    "\n",
    "Here is an image to illustrate the same principle with the days of the week.\n",
    "\n",
    "&nbsp;\n",
    "\n",
    "![Dictionary](https://gdurl.com/oonO)\n",
    "\n",
    "\n",
    "&nbsp;\n",
    "\n",
    "In dictionaries, the values are mutable but the keys are immutable. A value can't exist without a key. Definition of a dictionary has the following structure:\n",
    "\n",
    "```python\n",
    "dict = { key1 : val1,\n",
    "        key2 : val2,\n",
    "        key3: val3}\n",
    "```\n",
    "\n",
    "Now we can define the dictionary from the image above:"
   ]
  },
  {
   "cell_type": "code",
   "execution_count": null,
   "id": "5f7831f4",
   "metadata": {},
   "outputs": [],
   "source": [
    "days = {\"Monday\": \"1\", \n",
    "        \"Tuesday\": \"2\",\n",
    "        \"Wednesday\": \"3\", \n",
    "        \"Thursday\": \"4\",\n",
    "        \"Friday\": \"5\"}\n",
    "print(type(days))\n",
    "print(days)"
   ]
  },
  {
   "cell_type": "markdown",
   "id": "55eb0f98",
   "metadata": {},
   "source": [
    "As mentioned previously, to access a value in a dictionary we need to input its key:"
   ]
  },
  {
   "cell_type": "code",
   "execution_count": null,
   "id": "968c6082",
   "metadata": {},
   "outputs": [],
   "source": [
    "days[\"Friday\"]"
   ]
  },
  {
   "cell_type": "markdown",
   "id": "bb0e575f",
   "metadata": {},
   "source": [
    "Just like lists, we can modify, add and remove different items in the dictionary."
   ]
  },
  {
   "cell_type": "code",
   "execution_count": null,
   "id": "88fa6432",
   "metadata": {},
   "outputs": [],
   "source": [
    "days.update({\"Saturday\": \"6\"})\n",
    "print(days)\n",
    "days.pop(\"Monday\")  # Remove Monday because nobody likes it\n",
    "print(days)"
   ]
  },
  {
   "cell_type": "markdown",
   "id": "5ac26a01",
   "metadata": {},
   "source": [
    "If needed we can extract only the keys or only the values out of the dictionary."
   ]
  },
  {
   "cell_type": "code",
   "execution_count": null,
   "id": "e8972f6b",
   "metadata": {},
   "outputs": [],
   "source": [
    "print(days.keys())   # get only the keys of the dictionary\n",
    "print(days.values()) # get only the values of the dictionary"
   ]
  },
  {
   "cell_type": "markdown",
   "id": "3e240a19",
   "metadata": {},
   "source": [
    "### Exercise_3\n",
    "The dictionary `months` below maps numbers to the names of months. But it is from an experimental [13-month calendar](https://en.wikipedia.org/wiki/International_Fixed_Calendar)! Correct the dictionary by\n",
    "- printing `months.keys()` and `months.values()` to identify the difference with the normal calendar.\n",
    "- using `months.pop()`, and `months.update()`, to edit the dictionary so it matches up with the normal calendar."
   ]
  },
  {
   "cell_type": "code",
   "execution_count": null,
   "id": "13f77fe9",
   "metadata": {},
   "outputs": [],
   "source": [
    "months = {1: \"Jan\", \n",
    "          2: \"Feb\", \n",
    "          3:\"Mar\", \n",
    "          4: \"Apr\", \n",
    "          5:\"May\", \n",
    "          6:\"Jun\", \n",
    "          7:\"Sol\", \n",
    "          8:\"Jul\", \n",
    "          9:\"Aug\", \n",
    "          10:\"Sep\", \n",
    "          11:\"Oct\", \n",
    "          12:\"Nov\", \n",
    "          13:\"Dec\"}\n",
    "\n",
    "#Investigate/change the calendar!\n"
   ]
  }
 ],
 "metadata": {
  "kernelspec": {
   "display_name": "Python 3 (ipykernel)",
   "language": "python",
   "name": "python3"
  },
  "language_info": {
   "codemirror_mode": {
    "name": "ipython",
    "version": 3
   },
   "file_extension": ".py",
   "mimetype": "text/x-python",
   "name": "python",
   "nbconvert_exporter": "python",
   "pygments_lexer": "ipython3",
   "version": "3.9.13"
  }
 },
 "nbformat": 4,
 "nbformat_minor": 5
}
