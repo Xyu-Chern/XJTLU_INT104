{
 "cells": [
  {
   "cell_type": "markdown",
   "id": "031ca738",
   "metadata": {},
   "source": [
    "# 1. Functions\n",
    "Also referred to as methods, functions are effectively small programs that take in arguments(ie. inputs) and return values(outputs). A function we have been using extensively until now is `print`. As obvious it takes various types of arguments and prints them to the console. It and all other functions share the same structure:\n",
    "\n",
    "```python\n",
    "def functionName(argument1, argument2, argument3, ... argumentN):\n",
    "    statments..\n",
    "    ..\n",
    "    ..\n",
    "    \n",
    "    return returnValue\n",
    "```\n",
    "\n",
    "Functions are an incredibly useful concept since they allow us to package functionality in a convenient and easy to read manner and reproduce the same result without having to write it again and again. A quick example:"
   ]
  },
  {
   "cell_type": "code",
   "execution_count": null,
   "id": "c93c9f28",
   "metadata": {},
   "outputs": [],
   "source": [
    "def greet_user():\n",
    "    # Display a simple greeting.\n",
    "    print(\"Hello!\")\n",
    "\n",
    "greet_user() "
   ]
  },
  {
   "cell_type": "markdown",
   "id": "ffb3c2ea",
   "metadata": {},
   "source": [
    "Here, we have created a function named greet_user(). This function doesn't have any arguments and doesn't return any values. It just simply prints the text Hello !  We can also display a personalized greeting."
   ]
  },
  {
   "cell_type": "code",
   "execution_count": null,
   "id": "23a7cd90",
   "metadata": {},
   "outputs": [],
   "source": [
    "def greet_user(user_name):\n",
    "    # Display a personalized greeting.\n",
    "    print(\"Hello, \" + user_name + \"!\")\n",
    "\n",
    "greet_user('Laura')\n",
    "greet_user('Lily')\n",
    "greet_user('Mirra')"
   ]
  },
  {
   "cell_type": "markdown",
   "id": "96275fdf",
   "metadata": {},
   "source": [
    "We can use a default argument value during definition ! Moreover, when you are calling function, we can also send the parameters with the `key = value` syntax !"
   ]
  },
  {
   "cell_type": "code",
   "execution_count": null,
   "id": "0f47b6c7",
   "metadata": {},
   "outputs": [],
   "source": [
    "def descibe_pet(name, animal='dog'):\n",
    "    # Display information about a pet.\n",
    "    print(\"I have a \" + animal + \".\")\n",
    "    print(\"Its name is \" + name + \".\")\n",
    "\n",
    "descibe_pet('Demon', 'cat')\n",
    "descibe_pet('Demon')\n",
    "descibe_pet(animal='cat', name='Demon')"
   ]
  },
  {
   "cell_type": "markdown",
   "id": "4e422c15",
   "metadata": {},
   "source": [
    "This time, we assigned `None` to the variable `animal`, which means it is an optional arguments now. Then, we can call this function without giving the value of animal !"
   ]
  },
  {
   "cell_type": "code",
   "execution_count": null,
   "id": "287b9780",
   "metadata": {},
   "outputs": [],
   "source": [
    "def descibe_pet(name, animal=None):\n",
    "    # Display information about a pet.\n",
    "    if animal:\n",
    "        print(\"I have a \" + animal + \".\")\n",
    "    print(\"Its name is \" + name + \".\")\n",
    "\n",
    "descibe_pet('Demon', 'cat')\n",
    "descibe_pet('Demon')"
   ]
  },
  {
   "cell_type": "markdown",
   "id": "d8dd5a45",
   "metadata": {},
   "source": [
    "Rule of thumb - if you are planning on using very similar code more than once, it may be wortwhile writing it as a reusable function. \n",
    "\n",
    "Can we make a more useful function that returns values(outputs)? We can do that using `return`. When we use `return`, it immedately outputs the value after it and terminates the program. Can we make a program that rounds a number?"
   ]
  },
  {
   "cell_type": "code",
   "execution_count": null,
   "id": "af421529",
   "metadata": {},
   "outputs": [],
   "source": [
    "x = 3.4\n",
    "remainder = x % 1\n",
    "if remainder < 0.5:\n",
    "    print(\"Number rounded down\")\n",
    "    x = x - remainder\n",
    "else:\n",
    "    print(\"Number rounded up\")\n",
    "    x = x + (1 - remainder)\n",
    "\n",
    "print(\"Final answer is\", x)"
   ]
  },
  {
   "cell_type": "markdown",
   "id": "5216d43f",
   "metadata": {},
   "source": [
    "That works but it will be tedious do have to write it all the time we need to round a number. Can we convert that to a function?"
   ]
  },
  {
   "cell_type": "code",
   "execution_count": null,
   "id": "7a411ad0",
   "metadata": {
    "scrolled": true
   },
   "outputs": [],
   "source": [
    "def roundNum(num):\n",
    "    remainder = num % 1\n",
    "    if remainder < 0.5:\n",
    "        return num - remainder\n",
    "    else:\n",
    "        return num + (1 - remainder)\n",
    "\n",
    "# Will it work?\n",
    "x = roundNum(3.4)\n",
    "print (x)\n",
    "\n",
    "y = roundNum(7.7)\n",
    "print(y)\n",
    "\n",
    "z = roundNum(9.2)\n",
    "print(z)"
   ]
  },
  {
   "cell_type": "markdown",
   "id": "8c5fce91",
   "metadata": {},
   "source": [
    "That is a very powerful idea!\n",
    "\n",
    "*Note: that this such trivial functionality is already built into Python as the function `round()`.*\n",
    "\n",
    "We can also make a function that returns a tuple of often needed parameters of a list."
   ]
  },
  {
   "cell_type": "code",
   "execution_count": null,
   "id": "61c5819e",
   "metadata": {},
   "outputs": [],
   "source": [
    "def listFunc(my_list):\n",
    "    maximum = max(my_list)\n",
    "    minimum = min(my_list)\n",
    "    first = my_list[0]\n",
    "    last = my_list[-1]\n",
    "    return maximum, minimum, first, last"
   ]
  },
  {
   "cell_type": "code",
   "execution_count": null,
   "id": "20a20690",
   "metadata": {},
   "outputs": [],
   "source": [
    "l = [24, 12, 68, 40, 120, 96]\n",
    "params = listFunc(l)\n",
    "print(params)\n",
    "print(\"Max value is\", params[0])\n",
    "print(\"Min value is\", params[1])\n",
    "print(\"First value is\", params[2])\n",
    "print(\"Last value is\", params[3])"
   ]
  },
  {
   "cell_type": "markdown",
   "id": "a7026567",
   "metadata": {},
   "source": [
    "## Exercises_1: Enumerate sentence\n",
    "Create a function that prints words within a sentence along with their index in front of the word itself.\n",
    "\n",
    "For example if we give the function the argument \"This is a sentence\" it should print\n",
    "\n",
    "```\n",
    "1 This\n",
    "2 is\n",
    "3 a\n",
    "4 sentence\n",
    "```"
   ]
  },
  {
   "cell_type": "code",
   "execution_count": null,
   "id": "06bec824",
   "metadata": {},
   "outputs": [],
   "source": []
  },
  {
   "cell_type": "markdown",
   "id": "d1abcd97",
   "metadata": {},
   "source": [
    "## Exercises_2:  Fibonacci\n",
    "Create a function `fibonacci()` which takes an integer `num` as an input and returns the first `num` fibonacci numbers.\n",
    "\n",
    "Eg.\n",
    "\n",
    "Input: `8`\n",
    "\n",
    "Output: `[1, 1, 2, 3, 5, 8, 13, 21]`\n",
    "\n",
    "*Hint: You might want to recall [fibonacci numbers](https://en.wikipedia.org/wiki/Fibonacci_number)*"
   ]
  },
  {
   "cell_type": "code",
   "execution_count": null,
   "id": "454a81ba",
   "metadata": {},
   "outputs": [],
   "source": [
    "    "
   ]
  },
  {
   "cell_type": "markdown",
   "id": "fe84c4f7",
   "metadata": {},
   "source": [
    "## Exercises_3:  Sort and cube\n",
    "Given the list `numList`:\n",
    "1. Copy it to `newList`.\n",
    "2. Arrange all of the values in `newList` ascending order (Hint: using the built-in function of lists).\n",
    "3. Cube all numbers within the list using a `for` loop. (Think about how you will store the values back to the list).\n",
    "HINT: Make sure you change the value of `newList` whenever you are iterating over it in the `for` loop. Notice how the sorted sequence of numbers in `numList` is very similar to the indexes of a list."
   ]
  },
  {
   "cell_type": "code",
   "execution_count": null,
   "id": "7e9b533e",
   "metadata": {},
   "outputs": [],
   "source": [
    "numList = [5, 7, 2, 1, 3, 6, 4]\n",
    "# Please store the new values in newList\n"
   ]
  },
  {
   "cell_type": "markdown",
   "id": "16276853",
   "metadata": {},
   "source": [
    "## Exercises_4:  sortAndCube()\n",
    "Now do the same thing as exercise 3 but as a function.\n",
    "Remember that you have to return a value! \n",
    "\n",
    "Hint: `print()` and `type()` would be helpful in fixing issues with your code."
   ]
  },
  {
   "cell_type": "code",
   "execution_count": null,
   "id": "170efb80",
   "metadata": {},
   "outputs": [],
   "source": []
  },
  {
   "cell_type": "markdown",
   "id": "1729db3a",
   "metadata": {},
   "source": [
    "## Exercises_5:  Find word\n",
    "Create a function that searches for a word within a provided lists of words. Inputs to the function should be a list of words and a word to search for\n",
    "\n",
    "The function should return `True` if the word is contained within the list and `False` otherwise."
   ]
  },
  {
   "cell_type": "code",
   "execution_count": null,
   "id": "71d3435b",
   "metadata": {},
   "outputs": [],
   "source": []
  },
  {
   "cell_type": "markdown",
   "id": "071b2dcd",
   "metadata": {},
   "source": [
    "# 2. Printing\n",
    "When writing your own script you won't have the luxury of printing the value of a variable simply by typing its name(like we have been doing until now), you will have to use `print()` to check any values. Luckily it's quite versatile and powerful but also has a few quirks."
   ]
  },
  {
   "cell_type": "code",
   "execution_count": null,
   "id": "fced7f3f",
   "metadata": {},
   "outputs": [],
   "source": [
    "print(\"Python is powerful and versatile!\")"
   ]
  },
  {
   "cell_type": "code",
   "execution_count": null,
   "id": "ed57df87",
   "metadata": {},
   "outputs": [],
   "source": [
    "x = \"Python is powerful\"\n",
    "y = \" and versatile!\"\n",
    "print(x+y)"
   ]
  },
  {
   "cell_type": "code",
   "execution_count": null,
   "id": "e0828ec4",
   "metadata": {},
   "outputs": [],
   "source": [
    "str1 = \"The string class has\"\n",
    "str2 = 76\n",
    "str3 = \"methods!\"\n",
    "print(str1 + str2 + str3)"
   ]
  },
  {
   "cell_type": "markdown",
   "id": "4c080b1a",
   "metadata": {},
   "source": [
    "This doesn't really work and it is not an issue of `print`. It is actually because we are trying to add a String to an Integer. As seen previously, we can convert this to a string using `str()`:"
   ]
  },
  {
   "cell_type": "code",
   "execution_count": null,
   "id": "d24f789c",
   "metadata": {},
   "outputs": [],
   "source": [
    "str1 = \"The string class has \"\n",
    "str2 = 76\n",
    "str3 = \" methods!\"\n",
    "print(str1 + str(str2) + str3)  # You will have to convert str2 to a string before you can print it"
   ]
  },
  {
   "cell_type": "markdown",
   "id": "9837749d",
   "metadata": {},
   "source": [
    "Surely Python would have a more elegant solution, right? Correct!\n",
    "\n",
    "You can use `print` in the format `print(argument1, argument2, argument3, .. ,argumentN)` which allows us to print nearly every type of variable, which is quite useful and doesn't require us to do type conversions all the time. "
   ]
  },
  {
   "cell_type": "code",
   "execution_count": null,
   "id": "aecc902a",
   "metadata": {},
   "outputs": [],
   "source": [
    "str1 = \"The string class has\"\n",
    "str2 = 76\n",
    "str3 = \"methods!\"\n",
    "print(str1, str2, str3)"
   ]
  },
  {
   "cell_type": "markdown",
   "id": "17965d8a",
   "metadata": {},
   "source": [
    "## 2.1 Placeholders\n",
    "An alternative to that is the `format()` method which can be applied to a string. For it to work you need to include ordered placeholders `{}` within you string. The code below calculates the circumference of the Earth at the equator. Complete the block to print this circumference with a statement of how it was calculated (e.g \"Earth's diameter at equator: 12756 km. Equator's circumference: __ km\"). \n",
    "\n",
    "Print this statement 3 times, using a different method for printing each time."
   ]
  },
  {
   "cell_type": "code",
   "execution_count": null,
   "id": "49243b81",
   "metadata": {},
   "outputs": [],
   "source": [
    "pi = 3.14159 # Pi\n",
    "d = 12756 # Diameter of eath at equator (in km)\n",
    "c = pi*d # Circumference of equator\n",
    "\n",
    "#Print using +, and casting\n",
    "print(\"Earth's diameter at equator: \" + str(d) + \" km. Equator's circumference: \" + str(c) + \" km.\")\n",
    "#Print using several arguments\n",
    "print(\"Earth's diameter at equator:\", d, \"km. Equator's circumference:\", c, \" km.\")\n",
    "#Print using .format alternative\n",
    "print(\"Earth's diameter at equator: {:.1f} km. Equator's circumference: {:.1f} km.\".format(d,c))"
   ]
  },
  {
   "cell_type": "markdown",
   "id": "f02d0387",
   "metadata": {},
   "source": [
    "## 2.2 Commenting\n",
    "\n",
    "When writing code you can also write a human-readable explanation of your code in the form of a comment. This can be done by typing in `#` and then writing extra information after it. For example:\n",
    "\n",
    "- `print(totalCost)` is ambiguous and we can't exactly be sure what `totalCost` is.\n",
    "- `print(totalCost)  # Prints the total cost for renovating the Main Library` is more informative\n",
    "\n",
    "Try running the following code. It should fail. Comment out the line of code so that the cell runs without an error (the cell should do nothing)."
   ]
  },
  {
   "cell_type": "code",
   "execution_count": null,
   "id": "088be3e3",
   "metadata": {},
   "outputs": [],
   "source": [
    "# broken code"
   ]
  }
 ],
 "metadata": {
  "kernelspec": {
   "display_name": "Python 3 (ipykernel)",
   "language": "python",
   "name": "python3"
  },
  "language_info": {
   "codemirror_mode": {
    "name": "ipython",
    "version": 3
   },
   "file_extension": ".py",
   "mimetype": "text/x-python",
   "name": "python",
   "nbconvert_exporter": "python",
   "pygments_lexer": "ipython3",
   "version": "3.9.13"
  }
 },
 "nbformat": 4,
 "nbformat_minor": 5
}
