{
 "cells": [
  {
   "cell_type": "markdown",
   "id": "d0243d97",
   "metadata": {},
   "source": [
    "# Classes\n",
    "Classes are very useful in developing software, but you will likely not need to know how to define them if you are going to use python for analysing data.\n",
    "\n",
    "Classes are effectively a **nice way to package functionality and data together** that has to be applied to multiple different objects of the same type. An instance of a class is called an **object** and can have attributes attached to it for maintaining its state. Class instances can also have methods for modifying its state.\n",
    "\n",
    "Classes are defined as follows:\n",
    "```python\n",
    "class className:\n",
    "    globalValue = \"global\"\n",
    "    # methods that belong to the class\n",
    "    def __init__(self, name):\n",
    "        # this method is called whenever a new instance is created\n",
    "        self._instanceName = name\n",
    "     \n",
    "    def classMethod(self):\n",
    "        # this is a method that belonds to the class\n",
    "        # Note how we have an argument self, which is a reference to the object itself\n",
    "         \n",
    "    def classMethod2(self):\n",
    "        # Another method\n",
    "```\n",
    "\n",
    "We define a new object as:\n",
    "```python\n",
    "newObject = className(\"Example\")\n",
    "```\n",
    "\n",
    "\n",
    "You use classes to define objects that represent the concepts and things that your program will work with. For example, if your program managed exam results of students, then you may create one class that represents an Exam, and another that represents a Student.\n",
    "\n",
    "Let us see how this can be implemented:"
   ]
  },
  {
   "cell_type": "code",
   "execution_count": 1,
   "id": "c65dbe8a",
   "metadata": {},
   "outputs": [],
   "source": [
    "class Exam:\n",
    "    def __init__(self, max_score=100):\n",
    "        self._max_score = max_score\n",
    "        self._actual_score = 0\n",
    "        \n",
    "    def percent(self):\n",
    "        return 100.0 * self._actual_score / self._max_score\n",
    "    \n",
    "    def setResult(self, score):\n",
    "        if score < 0:\n",
    "            self._actual_score = 0\n",
    "        elif score > self._max_score:\n",
    "            self._actual_score = self._max_score\n",
    "        else:\n",
    "            self._actual_score = score\n",
    "    \n",
    "    def grade(self):\n",
    "        if self._actual_score == 0:\n",
    "            return \"U\"\n",
    "        elif self.percent() > 70.0:\n",
    "            return \"A\"\n",
    "        elif self.percent() > 60.0:\n",
    "            return \"B\"\n",
    "        elif self.percent() > 50.0:\n",
    "            return \"C\"\n",
    "        else:\n",
    "            return \"F\"\n",
    "\n",
    "        \n",
    "class Student:\n",
    "    def __init__(self, name):\n",
    "        self._exams = {}\n",
    "        self._name = name\n",
    "    \n",
    "    def addExam(self, name, exam):\n",
    "        self._exams[name] = exam\n",
    "        \n",
    "    def addResult(self, name, score):\n",
    "        self._exams[name].setResult(score)\n",
    "    \n",
    "    def result(self, exam):\n",
    "        return self._exams[exam].percent()\n",
    "    \n",
    "    def grade(self, exam):\n",
    "        return self._exams[exam].grade()\n",
    "    \n",
    "    def grades(self):\n",
    "        g = {}\n",
    "        for exam in self._exams.keys():\n",
    "            g[exam] = self.grade(exam)\n",
    "        return g\n"
   ]
  },
  {
   "cell_type": "markdown",
   "id": "3ae674f1",
   "metadata": {},
   "source": [
    "We can now create a `Student` object and add exams to it:"
   ]
  },
  {
   "cell_type": "code",
   "execution_count": 2,
   "id": "54c610bd",
   "metadata": {},
   "outputs": [],
   "source": [
    "# You will need to add a name for the student below\n",
    "s = Student(\"Ignat\")  # create new object s of type Student\n",
    "s.addExam(\"Maths\", Exam(20))  # use Students' method\n",
    "s.addExam(\"Chemistry\", Exam(75))"
   ]
  },
  {
   "cell_type": "markdown",
   "id": "fcdf918d",
   "metadata": {},
   "source": [
    "The student now has exams which he has attended. Now we have to give him grades:"
   ]
  },
  {
   "cell_type": "code",
   "execution_count": 3,
   "id": "0abf015a",
   "metadata": {},
   "outputs": [
    {
     "data": {
      "text/plain": [
       "{'Maths': 'A', 'Chemistry': 'A'}"
      ]
     },
     "execution_count": 3,
     "metadata": {},
     "output_type": "execute_result"
    }
   ],
   "source": [
    "s.addResult(\"Maths\", 15)\n",
    "s.addResult(\"Chemistry\", 62)\n",
    "s.grades()"
   ]
  },
  {
   "cell_type": "markdown",
   "id": "1ad974a1",
   "metadata": {},
   "source": [
    "Programming with classes makes the code easier to read, as the code more closely represents the concepts that make up the program. For example, here we have a class that represents a full school of students."
   ]
  },
  {
   "cell_type": "code",
   "execution_count": 4,
   "id": "5f488849",
   "metadata": {},
   "outputs": [],
   "source": [
    "class School:\n",
    "    def __init__(self):\n",
    "        self._students = {}\n",
    "        self._exams = []\n",
    "\n",
    "    def addStudent(self, name):\n",
    "        self._students[name] = Student(name)\n",
    "\n",
    "    def addExam(self, exam, max_score):\n",
    "        self._exams.append(exam)\n",
    "        \n",
    "        for key in self._students.keys():\n",
    "            self._students[key].addExam(exam, Exam(max_score))\n",
    "    \n",
    "    def addResult(self, name, exam, score):\n",
    "        self._students[name].addResult(exam, score)\n",
    "        \n",
    "    def grades(self):\n",
    "        grades = {}\n",
    "        for name in self._students.keys():\n",
    "            grades[name] = self._students[name].grades()\n",
    "        return grades"
   ]
  },
  {
   "cell_type": "markdown",
   "id": "dc096790",
   "metadata": {},
   "source": [
    "Now we can populate the school with students and their grades:"
   ]
  },
  {
   "cell_type": "code",
   "execution_count": 5,
   "id": "04febb97",
   "metadata": {},
   "outputs": [
    {
     "data": {
      "text/plain": [
       "{'Andrew': {'Maths': 'U', 'Physics': 'U', 'English': 'U'},\n",
       " 'James': {'Maths': 'U', 'Physics': 'U', 'English': 'U'},\n",
       " 'Laura': {'Maths': 'U', 'Physics': 'U', 'English': 'U'}}"
      ]
     },
     "execution_count": 5,
     "metadata": {},
     "output_type": "execute_result"
    }
   ],
   "source": [
    "school = School()\n",
    "school.addStudent(\"Andrew\")\n",
    "school.addStudent(\"James\")\n",
    "school.addStudent(\"Laura\")\n",
    "school.addExam(\"Maths\", 20)\n",
    "school.addExam(\"Physics\", 50)\n",
    "school.addExam(\"English\", 30)\n",
    "school.grades()"
   ]
  },
  {
   "cell_type": "markdown",
   "id": "bc394743",
   "metadata": {},
   "source": [
    "We have a school of students but sadly all of them have grades U which stands for unassigned. How can we add grades? Functions and loops come to the rescue!\n",
    "\n",
    "The grades which the examiners have returned are:"
   ]
  },
  {
   "cell_type": "code",
   "execution_count": 6,
   "id": "873acb80",
   "metadata": {},
   "outputs": [],
   "source": [
    "maths_results = {\"Andrew\" : 13, \"James\" : 17, \"Laura\" : 14}\n",
    "physics_results = {\"Andrew\" : 34, \"James\" : 44, \"Laura\" : 27}\n",
    "english_results = {\"Andrew\" : 26, \"James\" : 14, \"Laura\" : 29}"
   ]
  },
  {
   "cell_type": "code",
   "execution_count": 7,
   "id": "48943564",
   "metadata": {},
   "outputs": [
    {
     "data": {
      "text/plain": [
       "{'Andrew': {'Maths': 'B', 'Physics': 'B', 'English': 'A'},\n",
       " 'James': {'Maths': 'A', 'Physics': 'A', 'English': 'F'},\n",
       " 'Laura': {'Maths': 'B', 'Physics': 'C', 'English': 'A'}}"
      ]
     },
     "execution_count": 7,
     "metadata": {},
     "output_type": "execute_result"
    }
   ],
   "source": [
    "def addResults(school, exam, results):\n",
    "    for student in results.keys():\n",
    "        school.addResult(student, exam, results[student])\n",
    "        \n",
    "addResults(school, \"Maths\", maths_results)\n",
    "addResults(school, \"Physics\", physics_results)\n",
    "addResults(school, \"English\", english_results)\n",
    "\n",
    "school.grades()"
   ]
  },
  {
   "cell_type": "markdown",
   "id": "e72d2fbf",
   "metadata": {},
   "source": [
    "Let us take a step back and have a look the big picture now:\n",
    "\n",
    "![Dictionary](https://gdurl.com/vUH3)\n",
    "\n",
    "Hopefully this makes using the whole datastructure more intuitive and easy, which was the initial goal. Now we can easily change things and add new Students or Exams (and resulsts).\n",
    "\n",
    "Taking a step back even further, everything in Python is an object which was defined in a class somewhere. That is why it is reffered to as a object-orientated programming language.\n",
    "\n",
    "Strings, floats, integers, etc. Everything is a object, has its own values and methods."
   ]
  },
  {
   "cell_type": "markdown",
   "id": "4b45dcb9",
   "metadata": {},
   "source": [
    "## Exercise: Making a better school\n",
    "This exercise is on defining classes. \n",
    "\n",
    "Below is a copy of the `School`, `Student` and `Exam` classes, together with a copy of the code needed to populate an object of that class with students and exam results. Edit the `School` class to add in the following functions:\n",
    "\n",
    "* `.resits()` : this should return the list of exams that each student should resit if they get a \"F\" or \"U\" grade.\n",
    "* `.prizeStudent()` : this should return the name of the student who scored the highest average percent across all of the exams.\n",
    "* `.reviseCourse(threshold)` : this should return the name of the exam that gets the lowest average score across all students, if the average score is below `threshold`.\n",
    "\n",
    "Use these functions to find out which students need to resit which exams, which student should be awarded the annual school prize, and which courses should be revised as the average mark is less than 50%."
   ]
  },
  {
   "cell_type": "code",
   "execution_count": 8,
   "id": "5aecf816",
   "metadata": {},
   "outputs": [],
   "source": [
    "class School:\n",
    "    def __init__(self):\n",
    "        self._students = {}\n",
    "        self._exams = []\n",
    "\n",
    "    def addStudent(self, name):\n",
    "        self._students[name] = Student(name)\n",
    "\n",
    "    def addExam(self, exam, max_score):\n",
    "        self._exams.append(exam)\n",
    "        \n",
    "        for key in self._students.keys():\n",
    "            self._students[key].addExam(exam, Exam(max_score))\n",
    "    \n",
    "    def addResult(self, name, exam, score):\n",
    "        self._students[name].addResult(exam, score)\n",
    "        \n",
    "    def grades(self):\n",
    "        grades = {}\n",
    "        for name in self._students.keys():\n",
    "            grades[name] = self._students[name].grades()\n",
    "        return grades\n",
    "    \n",
    "# NOTE: This is not a class method\n",
    "def addResults(school, exam, results):\n",
    "    for student in results.keys():\n",
    "        school.addResult(student, exam, results[student])\n",
    "\n",
    "\n",
    "class Student:\n",
    "    def __init__(self, name):\n",
    "        self._exams = {}\n",
    "        self._name = name\n",
    "    \n",
    "    def addExam(self, name, exam):\n",
    "        self._exams[name] = exam\n",
    "        \n",
    "    def addResult(self, name, score):\n",
    "        self._exams[name].setResult(score)\n",
    "    \n",
    "    def result(self, exam):\n",
    "        return self._exams[exam].percent()\n",
    "    \n",
    "    def grade(self, exam):\n",
    "        return self._exams[exam].grade()\n",
    "    \n",
    "    def grades(self):\n",
    "        g = {}\n",
    "        for exam in self._exams.keys():\n",
    "            g[exam] = self.grade(exam)\n",
    "        return g\n",
    "    \n",
    "\n",
    "class Exam:\n",
    "    def __init__(self, max_score=100):\n",
    "        self._max_score = max_score\n",
    "        self._actual_score = 0\n",
    "        \n",
    "    def percent(self):\n",
    "        return 100.0 * self._actual_score / self._max_score\n",
    "    \n",
    "    def setResult(self, score):\n",
    "        if score < 0:\n",
    "            self._actual_score = 0\n",
    "        elif score > self._max_score:\n",
    "            self._actual_score = self._max_score\n",
    "        else:\n",
    "            self._actual_score = score\n",
    "    \n",
    "    def grade(self):\n",
    "        if self._actual_score == 0:\n",
    "            return \"U\"\n",
    "        elif self.percent() > 70.0:\n",
    "            return \"A\"\n",
    "        elif self.percent() > 60.0:\n",
    "            return \"B\"\n",
    "        elif self.percent() > 50.0:\n",
    "            return \"C\"\n",
    "        else:\n",
    "            return \"F\"\n",
    "    \n",
    "# NOTE: This si not a class method\n",
    "def addResults(school, exam, results):\n",
    "    for student in results.keys():\n",
    "        school.addResult(student, exam, results[student])"
   ]
  },
  {
   "cell_type": "code",
   "execution_count": 9,
   "id": "b9307627",
   "metadata": {},
   "outputs": [
    {
     "data": {
      "text/plain": [
       "{'Andrew': {'Maths': 'B', 'Physics': 'B', 'English': 'A'},\n",
       " 'James': {'Maths': 'A', 'Physics': 'A', 'English': 'F'},\n",
       " 'Laura': {'Maths': 'B', 'Physics': 'C', 'English': 'A'}}"
      ]
     },
     "execution_count": 9,
     "metadata": {},
     "output_type": "execute_result"
    }
   ],
   "source": [
    "school = School()\n",
    "\n",
    "school.grades()\n",
    "\n",
    "students = [\"Andrew\", \"James\", \"Laura\"]\n",
    "exams = { \"Maths\" : 20, \"Physics\" : 50, \"English\": 30}\n",
    "results = {\"Maths\" : {\"Andrew\" : 13, \"James\" : 17, \"Laura\" : 14},\n",
    "           \"Physics\" : {\"Andrew\" : 34, \"James\" : 44, \"Laura\" : 27},\n",
    "           \"English\" : {\"Andrew\" : 26, \"James\" : 14, \"Laura\" : 29}}\n",
    "\n",
    "for student in students:\n",
    "    school.addStudent(student)\n",
    "    \n",
    "for exam in exams.keys():\n",
    "    school.addExam(exam, exams[exam])\n",
    "    \n",
    "for result in results.keys():\n",
    "    addResults(school, result, results[result])\n",
    "    \n",
    "school.grades()"
   ]
  },
  {
   "cell_type": "code",
   "execution_count": null,
   "id": "76731cbf",
   "metadata": {},
   "outputs": [],
   "source": []
  }
 ],
 "metadata": {
  "kernelspec": {
   "display_name": "Python 3 (ipykernel)",
   "language": "python",
   "name": "python3"
  },
  "language_info": {
   "codemirror_mode": {
    "name": "ipython",
    "version": 3
   },
   "file_extension": ".py",
   "mimetype": "text/x-python",
   "name": "python",
   "nbconvert_exporter": "python",
   "pygments_lexer": "ipython3",
   "version": "3.9.13"
  }
 },
 "nbformat": 4,
 "nbformat_minor": 5
}
