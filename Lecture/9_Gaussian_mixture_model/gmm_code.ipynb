{
 "cells": [
  {
   "cell_type": "markdown",
   "metadata": {},
   "source": [
    "# [Image Semantic Segmentation using Gaussian Mixture Model]\n",
    "\n",
    "This project utilizes a chosen image to perform image semantic segmentation using the Gaussian Mixture Model from the sklearn library."
   ]
  },
  {
   "cell_type": "markdown",
   "metadata": {},
   "source": [
    "# 1. Project Introduction\n",
    "The Gaussian Mixture Model is a clustering algorithm that can perform basic semantic segmentation operations on images.\n",
    "\n",
    "Additionally, we also employed the K-means model for semantic segmentation to compare segmentation results.\n",
    "\n",
    "We will also validate the effectiveness of the Gaussian Mixture Model in data generation. Utilizing the trained Gaussian Mixture Model, we generate pixel samples.\n",
    "\n",
    "The segmentation results and generated pixel points are illustrated in the accompanying figures.\n",
    "\n",
    "![](https://ai-studio-static-online.cdn.bcebos.com/8235e213370a4c86926d812a56e435b5acc13b8bc4ea4dea8af79ecf4b8bde76)\n"
   ]
  },
  {
   "cell_type": "markdown",
   "metadata": {},
   "source": [
    "# 2. Project Analysis and Solution Design\n",
    "\n",
    "In this project, we first read in the image and perform data preprocessing. Then, we create a Gaussian Mixture Model class, initiate fitting, and utilize the Gaussian Mixture Model to accomplish image segmentation.\n",
    "\n",
    "In addition to the Gaussian Mixture Model, we also utilized the K-means model for image semantic segmentation. Finally, we generate pixel samples using the model fitted by the Gaussian Mixture Model.\n",
    "\n",
    "The project steps can be summarized briefly as shown in the flowchart.\n"
   ]
  },
  {
   "cell_type": "markdown",
   "metadata": {},
   "source": [
    "# 3. Project Preparation\n",
    "Before beginning the experiment, we need to prepare the experimental environment to ensure smooth progress. This experiment will be implemented using AIStudio, and the configuration of the experimental environment is as follows:\n",
    "    \n",
    "    \n",
    "| Name         | Version | Function Description                                           |\n",
    "|--------------|---------|--------------------------------------------------------------|\n",
    "| AIStudio     | Classic | Foundational platform and environment for code implementation|\n",
    "| PaddlePaddle | 2.1.2   | Fundamental APIs for deep learning technologies              |\n",
    "| Python       | 3.7     | Programming language                                          |\n",
    "| cv2          | Default | Python library for OpenCV, extensively used in computer vision|\n",
    "| Os           | Default | Module in Python standard library for accessing OS functions  |\n",
    "| numpy        | Default | Library for scientific computing in Python, widely used in data analysis|\n",
    "| matplotlib   | Default | Plotting library for Python                                   |\n",
    "| sklearn      | Default | Scikit-learn, a powerful machine learning library            |\n"
   ]
  },
  {
   "cell_type": "markdown",
   "metadata": {},
   "source": [
    "# 4. Code Implementation"
   ]
  },
  {
   "cell_type": "markdown",
   "metadata": {},
   "source": [
    "## 4.1 Environment Import"
   ]
  },
  {
   "cell_type": "code",
   "execution_count": 1,
   "metadata": {},
   "outputs": [],
   "source": [
    "import cv2  # Python package for OpenCV, used for image processing\n",
    "import os  # Module in Python standard library for accessing OS functions\n",
    "import numpy as np  # Library for scientific computing in Python, widely used in data analysis\n",
    "import matplotlib.pyplot as plt  # Plotting library for Python\n",
    "from sklearn.mixture import GaussianMixture  # Gaussian Mixture Model from sklearn\n",
    "from numpy import *\n",
    "from PIL import Image, ImageDraw  # PIL for image processing"
   ]
  },
  {
   "cell_type": "markdown",
   "metadata": {},
   "source": [
    "## 4.2 Image Reading and Preprocessing\n",
    "We continue to process the image data by first using the imread() function to read the image to be processed, and then using the reshape() function to flatten the pixel matrix of the image from two dimensions to one dimension for processing."
   ]
  },
  {
   "cell_type": "code",
   "execution_count": 2,
   "metadata": {},
   "outputs": [
    {
     "data": {
      "text/plain": [
       "(700, 700, 3)"
      ]
     },
     "execution_count": 2,
     "metadata": {},
     "output_type": "execute_result"
    }
   ],
   "source": [
    "# Gaussian Mixture Model\n",
    "picPath = \"test1.jpg\"  # Path to the image\n",
    "pic = plt.imread(picPath)  # Read the image\n",
    "pic.shape"
   ]
  },
  {
   "cell_type": "code",
   "execution_count": 3,
   "metadata": {},
   "outputs": [
    {
     "data": {
      "text/plain": [
       "(490000, 3)"
      ]
     },
     "execution_count": 3,
     "metadata": {},
     "output_type": "execute_result"
    }
   ],
   "source": [
    "img = pic.reshape((pic.shape[0]*pic.shape[1], 3))  # Reshape to an array\n",
    "img.shape"
   ]
  },
  {
   "cell_type": "markdown",
   "metadata": {},
   "source": [
    "## 4.3 Data Processing Using Gaussian Mixture Model\n",
    "Create a Gaussian Mixture Model class using GaussianMixture().\n",
    "\n",
    "The parameters and their meanings are as follows:\n",
    "\n",
    "| Parameter Name  | Meaning                                              |\n",
    "|-----------------|------------------------------------------------------|\n",
    "| n_components    | Number of Gaussian models in the Gaussian Mixture Model|\n",
    "| covariance_type | String setting describing the type of covariance parameters to be used, set to 'diag'|\n",
    "| random_state    | Random seed provided to the initialization method, set to 0|\n"
   ]
  },
  {
   "cell_type": "code",
   "execution_count": 4,
   "metadata": {},
   "outputs": [
    {
     "name": "stdout",
     "output_type": "stream",
     "text": [
      "[[ 364.38382016   58.14315955   33.57131739]\n",
      " [  96.69855638   32.90549222   38.14720377]\n",
      " [ 182.54475685   99.72096489   51.7433728 ]\n",
      " [  30.15091552  109.31817841   23.11310615]\n",
      " [1085.27635175  113.45386949   88.07127419]\n",
      " [ 329.01293043  280.45512539   97.85307262]\n",
      " [ 212.41572044   32.28477158   32.85523843]\n",
      " [ 592.41019216  180.49976438  140.35356116]\n",
      " [ 183.38044058   39.4997433    65.49922094]\n",
      " [ 126.00347738   86.52506422   28.04164415]]\n",
      "[[166.76528741 161.88385722 146.04823286]\n",
      " [ 22.53365146  15.97616581  12.50961547]\n",
      " [ 61.41696086 131.64760959  91.96569208]\n",
      " [221.54917792 190.86603743 174.63935604]\n",
      " [166.68077013  48.31391517  39.41156577]\n",
      " [ 31.02417401  68.49123771  45.65368879]\n",
      " [124.24516744 127.98297373 110.82801488]\n",
      " [ 90.98890387  94.34930068  75.83996591]\n",
      " [ 71.77241781 150.18038234 110.27810326]\n",
      " [ 36.1746828  106.61516058  69.09986022]]\n"
     ]
    }
   ],
   "source": [
    "k = 10  # Number of Gaussian models in the Gaussian Mixture Model\n",
    "GMM = GaussianMixture(n_components=k, covariance_type='diag', random_state=0)  # Create Gaussian Mixture Model\n",
    "GMM.fit(img)  # Begin fitting the Gaussian Mixture Model\n",
    "print(GMM.covariances_)  # Print covariances\n",
    "print(GMM.means_)  # Print means"
   ]
  },
  {
   "cell_type": "markdown",
   "metadata": {},
   "source": [
    "## 4.4 Image Segmentation Using Gaussian Mixture Model\n",
    "First, use GMM.predict() to obtain the classification labels of the original data by the Gaussian Mixture Model.\n",
    "\n",
    "Use nested loops to obtain the feature coordinates of the cluster centers, and then use nested loops again to assign the coordinates of the pixel labels of the cluster centers to new_image. Finally, save and output the new_image image.\n",
    "\n",
    "The result is saved in k_GMM_k=xx.jpg."
   ]
  },
  {
   "cell_type": "code",
   "execution_count": 5,
   "metadata": {},
   "outputs": [
    {
     "data": {
      "text/plain": [
       "array([6, 6, 6, 9, 9, 1, 1, 1, 1, 1, 1, 1, 1, 1, 1, 1, 9, 9, 9, 6, 6, 6,\n",
       "       6, 6, 6, 6, 6, 6, 6, 6, 6, 6, 6, 6, 6, 6, 6, 6, 6, 6, 6, 6, 6, 6,\n",
       "       6, 6, 6, 6, 6, 6, 6, 6, 6, 6, 6, 6, 6, 6, 6, 6, 6, 6, 6, 6, 6, 6,\n",
       "       6, 6, 6, 6, 6, 6, 6, 6, 6, 6, 6, 6, 6, 6, 6, 6, 6, 6, 6, 6, 6, 6,\n",
       "       6, 6, 6, 6, 6, 6, 6, 6, 6, 6, 6, 6, 6, 6, 6, 6, 6, 6, 6, 6, 6, 6,\n",
       "       6, 6, 6, 6, 6, 6, 6, 6, 6, 6, 6, 6, 6, 6, 6, 6, 6, 9, 9, 1, 1, 1,\n",
       "       1, 1, 3, 3, 3, 3, 3, 3, 3, 3, 3, 3, 3, 3, 3, 3, 3, 3, 3, 3, 3, 3,\n",
       "       3, 3, 3, 3, 3, 3, 3, 3, 3, 3, 3, 3, 3, 3, 3, 3, 3, 3, 3, 3, 3, 3,\n",
       "       3, 3, 3, 3, 3, 3, 3, 3, 3, 3, 3, 3, 3, 3, 3, 3, 3, 3, 3, 3, 3, 3,\n",
       "       3, 3, 3, 3, 3, 3, 3, 3, 3, 3, 3, 3, 3, 3, 3, 3, 3, 3, 3, 3, 3, 3,\n",
       "       3, 3, 3, 3, 3, 3, 3, 3, 9, 9, 9, 6, 6, 6, 6, 6, 6, 6, 6, 6, 6, 6,\n",
       "       6, 6, 6, 6, 6, 6, 6, 6, 6, 6, 6, 6, 6, 6, 6, 6, 6, 6, 6, 6, 6, 6,\n",
       "       6, 6, 6, 6, 6, 6, 6, 6, 6, 6, 6, 6, 6, 6, 6, 6, 6, 6, 6, 6, 6, 6,\n",
       "       6, 6, 6, 6, 6, 6, 6, 6, 6, 6, 6, 6, 6, 6, 6, 6, 6, 6, 6, 6, 6, 6,\n",
       "       6, 6, 6, 6, 6, 6, 6, 6, 6, 6, 6, 6, 6, 6, 6, 6, 6, 6, 6, 6, 6, 6,\n",
       "       6, 6, 6, 6, 6, 6, 6, 6, 6, 6, 6, 6, 6, 6, 6, 6, 6, 6, 6, 6, 6, 6,\n",
       "       6, 6, 6, 6, 6, 6, 6, 6, 6, 6, 6, 6, 6, 6, 6, 6, 6, 6, 6, 6, 6, 6,\n",
       "       6, 6, 6, 6, 6, 6, 6, 6, 6, 6, 6, 6, 6, 6, 6, 6, 6, 6, 6, 6, 6, 6,\n",
       "       6, 6, 6, 6, 6, 6, 6, 6, 6, 6, 9, 9, 6, 6, 6, 6, 6, 9, 6, 6, 6, 6,\n",
       "       6, 6, 6, 6, 6, 6, 6, 6, 6, 6, 6, 6, 6, 6, 6, 6, 6, 6, 6, 6, 6, 6,\n",
       "       6, 6, 6, 6, 6, 6, 6, 6, 6, 6, 6, 6, 6, 6, 6, 6, 6, 6, 6, 6, 6, 6,\n",
       "       6, 6, 6, 6, 6, 6, 6, 6, 6, 6, 6, 6, 6, 6, 6, 6, 6, 6, 6, 6, 6, 6,\n",
       "       6, 6, 6, 6, 6, 6, 6, 6, 6, 6, 6, 6, 6, 6, 6, 6, 6, 6, 6, 6, 6, 6,\n",
       "       6, 6, 6, 6, 6, 6, 6, 6, 6, 6, 6, 6, 6, 6, 6, 6, 6, 6, 6, 6, 6, 6,\n",
       "       6, 6, 6, 6, 6, 6, 6, 6, 6, 6, 6, 6, 6, 6, 6, 6, 6, 6, 6, 6, 6, 6,\n",
       "       6, 6, 6, 6, 6, 6, 6, 6, 6, 6, 6, 6, 6, 6, 6, 6, 6, 6, 6, 6, 6, 6,\n",
       "       6, 6, 6, 6, 6, 6, 6, 6, 6, 6, 6, 6, 6, 6, 6, 6, 6, 6, 6, 6, 6, 6,\n",
       "       6, 6, 6, 6, 6, 6, 6, 6, 6, 6, 6, 6, 6, 6, 6, 6, 6, 6, 6, 6, 6, 6,\n",
       "       6, 6, 6, 6, 6, 6, 6, 6, 6, 6, 6, 6, 6, 6, 6, 6, 6, 6, 6, 6, 6, 6,\n",
       "       6, 6, 6, 6, 6, 6, 6, 6, 6, 6, 6, 6, 6, 6, 6, 6, 6, 6, 6, 6, 6, 6,\n",
       "       6, 6, 6, 6, 6, 6, 6, 6, 6, 6, 6, 6, 6, 6, 6, 6, 6, 6, 6, 6, 6, 6,\n",
       "       6, 6, 6, 6, 6, 6, 6, 6, 6, 6, 6, 6, 6, 6, 6, 6, 6, 6, 6, 6, 6, 9,\n",
       "       9, 1, 1, 1, 1, 1, 1, 1, 1, 1, 1, 1, 1, 1, 9, 9, 6, 6, 6, 6, 6, 6,\n",
       "       6, 6, 6, 6, 6, 6, 6, 6, 6, 6, 6, 6, 6, 6, 6, 6, 6, 6, 6, 6, 6, 6,\n",
       "       6, 6, 6, 6, 6, 6, 6, 6, 6, 6, 6, 6, 6, 6, 6, 6, 6, 6, 6, 6, 6, 6,\n",
       "       6, 6, 6, 6, 6, 6, 6, 6, 6, 6, 6, 6, 6, 6, 6, 6, 6, 6, 6, 6, 6, 6,\n",
       "       6, 6, 6, 6, 6, 6, 6, 6, 6, 6, 6, 6, 6, 6, 6, 6, 6, 6, 6, 6, 6, 6,\n",
       "       6, 6, 6, 6, 6, 6, 6, 6, 6, 6, 6, 6, 6, 9, 1, 1, 1, 1, 9, 3, 3, 3,\n",
       "       3, 3, 3, 3, 3, 3, 3, 3, 3, 3, 3, 3, 3, 3, 3, 3, 3, 3, 3, 3, 3, 3,\n",
       "       3, 3, 3, 3, 3, 3, 3, 3, 3, 3, 3, 3, 3, 3, 3, 3, 3, 3, 3, 3, 3, 3,\n",
       "       3, 3, 3, 3, 3, 3, 3, 3, 3, 3, 3, 3, 3, 3, 3, 3, 3, 3, 3, 3, 3, 3,\n",
       "       3, 3, 3, 3, 3, 3, 3, 3, 3, 3, 3, 3, 3, 3, 3, 3, 3, 3, 3, 3, 3, 3,\n",
       "       3, 3, 3, 3, 9, 9, 9, 6, 6, 6, 6, 6, 6, 6, 6, 6, 6, 6, 6, 6, 6, 6,\n",
       "       6, 6, 6, 6, 6, 6, 6, 6, 6, 6, 6, 6, 6, 6, 6, 6, 6, 6, 6, 6, 6, 6,\n",
       "       6, 6, 6, 6, 6, 6, 6, 6, 6, 6, 6, 6, 6, 6, 6, 6, 6, 6, 6, 6, 6, 6,\n",
       "       6, 6, 6, 6, 6, 6, 6, 6, 6, 6])"
      ]
     },
     "execution_count": 5,
     "metadata": {},
     "output_type": "execute_result"
    }
   ],
   "source": [
    "labels = GMM.predict(img)  # Obtain classification labels by the Gaussian Mixture Model for the original data\n",
    "labels[1000:2000]"
   ]
  },
  {
   "cell_type": "code",
   "execution_count": 6,
   "metadata": {},
   "outputs": [
    {
     "name": "stdout",
     "output_type": "stream",
     "text": [
      "(700, 700)\n",
      "[[6 6 6 ... 6 6 6]\n",
      " [6 6 6 ... 6 6 6]\n",
      " [6 6 6 ... 6 6 6]\n",
      " ...\n",
      " [3 3 3 ... 6 6 6]\n",
      " [3 3 3 ... 6 6 6]\n",
      " [3 3 3 ... 6 6 6]]\n",
      "(10, 3)\n",
      "[[166 161 146]\n",
      " [ 22  15  12]\n",
      " [ 61 131  91]\n",
      " [221 190 174]\n",
      " [166  48  39]\n",
      " [ 31  68  45]\n",
      " [124 127 110]\n",
      " [ 90  94  75]\n",
      " [ 71 150 110]\n",
      " [ 36 106  69]]\n"
     ]
    }
   ],
   "source": [
    "height = pic.shape[0]  # Get the height of the image\n",
    "width = pic.shape[1]  # Get the width of the image\n",
    "new_image = np.zeros((height,width,3), np.uint8)  # Create a blank matrix according to the original image size to store the segmented image\n",
    "center = np.zeros([k, 3])  # Create an empty matrix to store the color vectors for each class\n",
    "for i in range(k):\n",
    "    for j in range(3):\n",
    "        # Iterate through all k classes and compute the color vectors for each class\n",
    "        center[i, j] = GMM.means_[i, j]\n",
    "center = center.astype(np.int32)  # Since color encoding is of integer type, type conversion is required\n",
    "label = labels.reshape((height, width))  # Reshape the label originally arranged in one dimension to the same shape as the image\n",
    "\n",
    "print(label.shape)\n",
    "print(label)\n",
    "print(center.shape)\n",
    "print(center)"
   ]
  },
  {
   "cell_type": "code",
   "execution_count": 7,
   "metadata": {},
   "outputs": [
    {
     "data": {
      "text/plain": [
       "True"
      ]
     },
     "execution_count": 7,
     "metadata": {},
     "output_type": "execute_result"
    }
   ],
   "source": [
    "for i in range(0, height):\n",
    "    for j in range(0, width): # Double loop to iterate through each position in the image\n",
    "        new_image[i,j] = center[label[i][j]] # Assign color values to each pixel of the image, the value is represented by the pixel's belonging cluster center\n",
    "cv2.imwrite('k_GMM_k={:d}.jpg'.format(k), new_image)  # Store the obtained clustered image"
   ]
  },
  {
   "cell_type": "markdown",
   "metadata": {},
   "source": [
    "## 4.5 Image Segmentation Using K-means Model\n",
    "Next, we will perform image segmentation using the K-means model. The code is similar to the previous section, with the only difference being the model training part.\n",
    "\n",
    "The result is saved in kmeans_k=xx.jpg."
   ]
  },
  {
   "cell_type": "code",
   "execution_count": 8,
   "metadata": {},
   "outputs": [
    {
     "name": "stdout",
     "output_type": "stream",
     "text": [
      "(490000, 3)\n"
     ]
    }
   ],
   "source": [
    "from sklearn.cluster import KMeans  # Importing the k-means model\n",
    "picPath = \"test1.jpg\"  # Path to the image\n",
    "pic = plt.imread(picPath)  # Read the image from the path\n",
    "img = pic.reshape((pic.shape[0]*pic.shape[1], 3))  # Reshape and store as an array, the shape of the array is (height * width, 3)\n",
    "print(img.shape)"
   ]
  },
  {
   "cell_type": "code",
   "execution_count": 9,
   "metadata": {},
   "outputs": [
    {
     "name": "stdout",
     "output_type": "stream",
     "text": [
      "[2 2 2 ... 9 9 9]\n",
      "[[ 23.44976297  16.97249412  13.24937758]\n",
      " [214.37868329 179.58202825 167.98066503]\n",
      " [ 38.26084311 107.6826323   70.58081628]\n",
      " [175.42936523  48.35414903  39.28853726]\n",
      " [226.20213194 201.23155826 178.84706665]\n",
      " [120.08716408 125.08354253 107.22992716]\n",
      " [160.2286472  159.31710329 143.94665133]\n",
      " [ 90.51932219  71.83215764  58.02952001]\n",
      " [ 25.98584827  72.05585989  47.33208831]\n",
      " [ 66.04085028 139.13182251  99.10080925]]\n"
     ]
    }
   ],
   "source": [
    "k = 10  # Set the number of clusters\n",
    "kmeans = KMeans(n_clusters=k, init='k-means++')  # Use k-means++ to select initial cluster centers, build kmeans\n",
    "kmeans.fit(img)  # Train using the .fit method\n",
    "print(kmeans.labels_)\n",
    "print(kmeans.cluster_centers_)"
   ]
  },
  {
   "cell_type": "code",
   "execution_count": 10,
   "metadata": {},
   "outputs": [
    {
     "data": {
      "text/plain": [
       "True"
      ]
     },
     "execution_count": 10,
     "metadata": {},
     "output_type": "execute_result"
    }
   ],
   "source": [
    "height = pic.shape[0]  # Store the length of the image\n",
    "width = pic.shape[1]  # Store the width of the image\n",
    "new_image = np.zeros((height,width,3), np.uint8)  # Create a blank matrix with the same size as the original image using numpy\n",
    "center = np.zeros([k, 3])  # Create a blank matrix using numpy to store cluster centers\n",
    "for i in range(k):\n",
    "    for j in range(3):\n",
    "        # Double loop to obtain the feature coordinates of the cluster centers\n",
    "        center[i, j] = kmeans.cluster_centers_[i, j]\n",
    "center = center.astype(np.int32)  # Since color encoding is of integer type, type conversion is required\n",
    "label = kmeans.labels_\n",
    "label = label.reshape((height, width))  # Reshape the label originally arranged in one dimension to the same shape as the image\n",
    "for i in range(0, height):\n",
    "    for j in range(0, width):\n",
    "        # Double loop to iterate through each position in the image\n",
    "        new_image[i,j] = center[label[i][j]]  # Assign color values to each pixel of the image, the value is represented by the pixel's belonging cluster center\n",
    "# print(new_image)\n",
    "cv2.imwrite('kmeans_k={:d}.jpg'.format(k), new_image)  # Store the obtained clustered image"
   ]
  },
  {
   "cell_type": "markdown",
   "metadata": {},
   "source": [
    "## 4.6 Generating Samples Using Gaussian Mixture Model\n",
    "Use the sample() method to generate samples using the trained Gaussian Mixture Model. Convert the generated samples to integer type using np.array(). Finally, use reshape() to arrange the pixels in one image and save the output result image.\n",
    "\n",
    "The result is saved in GEN_GMM_k=xx.jpg."
   ]
  },
  {
   "cell_type": "code",
   "execution_count": 11,
   "metadata": {},
   "outputs": [
    {
     "name": "stdout",
     "output_type": "stream",
     "text": [
      "(array([[195.28552408, 160.31949136, 147.86217094],\n",
      "       [150.46159033, 142.41688557, 149.83534872],\n",
      "       [183.26637187, 156.22472559, 159.19936379],\n",
      "       ...,\n",
      "       [ 21.7007864 , 115.29646684,  70.35174087],\n",
      "       [ 47.55503149, 114.5691838 ,  70.35578417],\n",
      "       [ 33.67062399, 116.92707725,  71.24621852]]), array([0, 0, 0, ..., 9, 9, 9]))\n"
     ]
    }
   ],
   "source": [
    "height = pic.shape[0]  # Get the height of the image\n",
    "width = pic.shape[1]  # Get the width of the image\n",
    "img_new = np.zeros((height,width,3), np.uint8)  # Create a blank matrix with the same size as the original image to store the new image\n",
    "data_new = GMM.sample(height * width)  # Use the trained Gaussian Mixture Model, same number of pixels as the original image\n",
    "print(data_new)"
   ]
  },
  {
   "cell_type": "code",
   "execution_count": 12,
   "metadata": {},
   "outputs": [
    {
     "name": "stdout",
     "output_type": "stream",
     "text": [
      "[[195 160 147]\n",
      " [150 142 149]\n",
      " [183 156 159]\n",
      " ...\n",
      " [ 21 115  70]\n",
      " [ 47 114  70]\n",
      " [ 33 116  71]]\n"
     ]
    }
   ],
   "source": [
    "data_new = np.array(data_new[0]).astype(np.int32)  # Process the generated data, convert to integer type\n",
    "print(data_new)"
   ]
  },
  {
   "cell_type": "code",
   "execution_count": 13,
   "metadata": {},
   "outputs": [
    {
     "data": {
      "text/plain": [
       "True"
      ]
     },
     "execution_count": 13,
     "metadata": {},
     "output_type": "execute_result"
    }
   ],
   "source": [
    "data_new = data_new.reshape((height, width, 3))  # Arrange the pixels in one image\n",
    "cv2.imwrite('GEN_GMM_k={:d}.jpg'.format(k), data_new)  # Save and output the experimental results"
   ]
  },
  {
   "cell_type": "code",
   "execution_count": null,
   "metadata": {},
   "outputs": [],
   "source": []
  }
 ],
 "metadata": {
  "kernelspec": {
   "display_name": "Python 3 (ipykernel)",
   "language": "python",
   "name": "python3"
  },
  "language_info": {
   "codemirror_mode": {
    "name": "ipython",
    "version": 3
   },
   "file_extension": ".py",
   "mimetype": "text/x-python",
   "name": "python",
   "nbconvert_exporter": "python",
   "pygments_lexer": "ipython3",
   "version": "3.9.19"
  }
 },
 "nbformat": 4,
 "nbformat_minor": 4
}
