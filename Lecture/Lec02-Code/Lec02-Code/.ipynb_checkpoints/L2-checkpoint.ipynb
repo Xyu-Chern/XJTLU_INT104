{
 "cells": [
  {
   "cell_type": "markdown",
   "id": "d9a4a58b",
   "metadata": {},
   "source": [
    "# L2 Data preprocession\n",
    "Read data using pandas https://pandas.pydata.org/docs/reference/io.html"
   ]
  },
  {
   "cell_type": "code",
   "execution_count": null,
   "id": "4dc309a9",
   "metadata": {},
   "outputs": [],
   "source": [
    "with open(\"data.csv\") as f:\n",
    "    lines = f.readlines()\n",
    "\n",
    "print (lines)"
   ]
  },
  {
   "cell_type": "code",
   "execution_count": null,
   "id": "a57d3abc",
   "metadata": {},
   "outputs": [],
   "source": [
    "lines[0].split(\",\")"
   ]
  },
  {
   "cell_type": "code",
   "execution_count": null,
   "id": "2f46481f",
   "metadata": {},
   "outputs": [],
   "source": [
    "import pandas as pd\n",
    "pd.read_csv(\"data.csv\")"
   ]
  },
  {
   "cell_type": "code",
   "execution_count": null,
   "id": "e8541200",
   "metadata": {},
   "outputs": [],
   "source": [
    "pd.read_csv(\"data.tsv\",sep='\\t')"
   ]
  },
  {
   "cell_type": "code",
   "execution_count": null,
   "id": "1d71fdbb",
   "metadata": {
    "scrolled": true
   },
   "outputs": [],
   "source": [
    "pd.read_json(\"data.json\", orient=\"index\")"
   ]
  },
  {
   "cell_type": "code",
   "execution_count": null,
   "id": "6b80fec3",
   "metadata": {},
   "outputs": [],
   "source": [
    "data_csv=pd.read_csv(\"data.csv\")\n",
    "data_csv.to_json(orient=\"records\")"
   ]
  },
  {
   "cell_type": "code",
   "execution_count": null,
   "id": "1ff7acca",
   "metadata": {},
   "outputs": [],
   "source": [
    "data_csv.to_json(orient=\"index\")"
   ]
  },
  {
   "cell_type": "markdown",
   "id": "2b26404a",
   "metadata": {},
   "source": [
    "# Data visualization\n",
    "- Line Charts\n",
    "- Bar Graphs\n",
    "- Histograms\n",
    "- Scatter Plots\n",
    "- Heat Maps\n",
    "\n",
    "https://matplotlib.org/stable/api/index"
   ]
  },
  {
   "cell_type": "code",
   "execution_count": null,
   "id": "25b5ed29",
   "metadata": {},
   "outputs": [],
   "source": [
    "data_csv\n"
   ]
  },
  {
   "cell_type": "markdown",
   "id": "6f96c378",
   "metadata": {},
   "source": [
    "- Line Charts"
   ]
  },
  {
   "cell_type": "code",
   "execution_count": null,
   "id": "74abbdd1",
   "metadata": {},
   "outputs": [],
   "source": [
    "import matplotlib.pyplot as plt\n",
    "plt.plot(data_csv[\"before\"])"
   ]
  },
  {
   "cell_type": "code",
   "execution_count": null,
   "id": "377cf889",
   "metadata": {},
   "outputs": [],
   "source": [
    "data_csv.plot()"
   ]
  },
  {
   "cell_type": "code",
   "execution_count": null,
   "id": "f6186b90",
   "metadata": {},
   "outputs": [],
   "source": [
    "data_csv"
   ]
  },
  {
   "cell_type": "markdown",
   "id": "f6b050a8",
   "metadata": {},
   "source": [
    "- Bar Charts"
   ]
  },
  {
   "cell_type": "code",
   "execution_count": null,
   "id": "c7530539",
   "metadata": {},
   "outputs": [],
   "source": [
    "data_csv[\"before\"].plot.bar()"
   ]
  },
  {
   "cell_type": "markdown",
   "id": "8fa1a480",
   "metadata": {},
   "source": [
    "- Histograms\n"
   ]
  },
  {
   "cell_type": "code",
   "execution_count": null,
   "id": "ca893b4a",
   "metadata": {},
   "outputs": [],
   "source": [
    "data_csv.hist()"
   ]
  },
  {
   "cell_type": "code",
   "execution_count": null,
   "id": "df4ebedb",
   "metadata": {},
   "outputs": [],
   "source": [
    "house=pd.read_csv(\"housing.csv\")"
   ]
  },
  {
   "cell_type": "code",
   "execution_count": null,
   "id": "877cda07",
   "metadata": {},
   "outputs": [],
   "source": [
    "house.head()"
   ]
  },
  {
   "cell_type": "code",
   "execution_count": null,
   "id": "99f9f765",
   "metadata": {},
   "outputs": [],
   "source": [
    "house.hist(bins=50,figsize=(15,15))"
   ]
  },
  {
   "cell_type": "markdown",
   "id": "7db1917b",
   "metadata": {},
   "source": [
    "- Scatter Plots\n"
   ]
  },
  {
   "cell_type": "code",
   "execution_count": null,
   "id": "793b9b46",
   "metadata": {},
   "outputs": [],
   "source": [
    "house.plot.scatter(x=\"longitude\", y=\"latitude\",s=house[\"population\"]/100,c=\"median_income\",cmap=\"jet\")"
   ]
  },
  {
   "cell_type": "markdown",
   "id": "d04e88ac",
   "metadata": {},
   "source": [
    "\n",
    "- Heat Maps"
   ]
  },
  {
   "cell_type": "code",
   "execution_count": null,
   "id": "f1f12a76",
   "metadata": {},
   "outputs": [],
   "source": [
    "data_heat=pd.read_csv(\"heat.txt\")\n",
    "data_heat"
   ]
  },
  {
   "cell_type": "code",
   "execution_count": null,
   "id": "7d1bec7d",
   "metadata": {},
   "outputs": [],
   "source": [
    "import seaborn as sns\n",
    "sns.heatmap(data_heat,annot=True)"
   ]
  },
  {
   "cell_type": "markdown",
   "id": "c9349188",
   "metadata": {},
   "source": [
    "## Note: try to read the matploylib.pyplot API and plot Bar"
   ]
  },
  {
   "cell_type": "markdown",
   "id": "4da9b669",
   "metadata": {},
   "source": [
    "# Data Cleaning\n",
    "- Handling Missing Data\n",
    "- Smooth Noisy Data"
   ]
  },
  {
   "cell_type": "code",
   "execution_count": null,
   "id": "0b0760cc",
   "metadata": {},
   "outputs": [],
   "source": [
    "alcohol= pd.read_excel(\"alcohol.xlsx\")\n",
    "alcohol"
   ]
  },
  {
   "cell_type": "code",
   "execution_count": null,
   "id": "80a193e3",
   "metadata": {},
   "outputs": [],
   "source": [
    "alcohol.dropna(axis=1)\n"
   ]
  },
  {
   "cell_type": "code",
   "execution_count": null,
   "id": "2e54b13d",
   "metadata": {},
   "outputs": [],
   "source": [
    "median_heard=alcohol[\"Heart\"].median()\n",
    "print (median_heard)\n",
    "alcohol[\"Heart\"].fillna(median_heard, inplace=True)"
   ]
  },
  {
   "cell_type": "code",
   "execution_count": null,
   "id": "7b0d9946",
   "metadata": {},
   "outputs": [],
   "source": [
    "alcohol"
   ]
  },
  {
   "cell_type": "markdown",
   "id": "e5dfce5a",
   "metadata": {},
   "source": [
    "- Noisy Data"
   ]
  },
  {
   "cell_type": "code",
   "execution_count": null,
   "id": "052c123d",
   "metadata": {},
   "outputs": [],
   "source": [
    "alcohol[\"Deaths\"]<0"
   ]
  },
  {
   "cell_type": "code",
   "execution_count": null,
   "id": "89780063",
   "metadata": {},
   "outputs": [],
   "source": [
    "alcohol.loc[alcohol[\"Deaths\"]<=0, \"Deaths\"]=0\n",
    "alcohol"
   ]
  },
  {
   "cell_type": "code",
   "execution_count": null,
   "id": "daf6a969",
   "metadata": {},
   "outputs": [],
   "source": [
    "alcohol.hist(figsize=(15,15))"
   ]
  },
  {
   "cell_type": "markdown",
   "id": "0ceb84ec",
   "metadata": {},
   "source": [
    "# Transformation"
   ]
  },
  {
   "cell_type": "markdown",
   "id": "2d1842d2",
   "metadata": {},
   "source": [
    "- Encoder"
   ]
  },
  {
   "cell_type": "code",
   "execution_count": null,
   "id": "05548167",
   "metadata": {},
   "outputs": [],
   "source": [
    "from sklearn.preprocessing import OrdinalEncoder\n",
    "ordinal_encoder = OrdinalEncoder()\n",
    "cat = alcohol[[\"Free healthcare\"]]\n",
    "\n",
    "cat_encoded = ordinal_encoder.fit_transform(cat)\n",
    "cat_encoded"
   ]
  },
  {
   "cell_type": "code",
   "execution_count": null,
   "id": "b6655e8b",
   "metadata": {},
   "outputs": [],
   "source": [
    "from sklearn.preprocessing import OneHotEncoder\n",
    "onehot_encoder = OneHotEncoder()\n",
    "cat = alcohol[[\"Free healthcare\"]]\n",
    "\n",
    "cat_encoded = onehot_encoder.fit_transform(cat)\n",
    "cat_encoded.toarray()"
   ]
  },
  {
   "cell_type": "markdown",
   "id": "5e32e27f",
   "metadata": {},
   "source": [
    "- Normalization"
   ]
  },
  {
   "cell_type": "code",
   "execution_count": null,
   "id": "7ca63c48",
   "metadata": {},
   "outputs": [],
   "source": [
    "alcohol.plot.scatter(x=\"Heart\", y=\"Liver\")"
   ]
  },
  {
   "cell_type": "code",
   "execution_count": null,
   "id": "d53e0971",
   "metadata": {},
   "outputs": [],
   "source": [
    "plt.figure(figsize=(30,4))\n",
    "plt.scatter(x= alcohol[\"Heart\"], y=alcohol[\"Liver\"] )"
   ]
  },
  {
   "cell_type": "code",
   "execution_count": null,
   "id": "4d1aebfd",
   "metadata": {},
   "outputs": [],
   "source": [
    "norm_heart = (alcohol[\"Heart\"] - alcohol[\"Heart\"].min()) / (alcohol[\"Heart\"].max() - alcohol[\"Heart\"].min())\n",
    "norm_liver = (alcohol[\"Liver\"] - alcohol[\"Liver\"].min()) / (alcohol[\"Liver\"].max() - alcohol[\"Liver\"].min())"
   ]
  },
  {
   "cell_type": "code",
   "execution_count": null,
   "id": "4c0cb650",
   "metadata": {},
   "outputs": [],
   "source": [
    "plt.scatter(x= norm_heart, y= norm_liver)"
   ]
  }
 ],
 "metadata": {
  "kernelspec": {
   "display_name": "Python 3 (ipykernel)",
   "language": "python",
   "name": "python3"
  },
  "language_info": {
   "codemirror_mode": {
    "name": "ipython",
    "version": 3
   },
   "file_extension": ".py",
   "mimetype": "text/x-python",
   "name": "python",
   "nbconvert_exporter": "python",
   "pygments_lexer": "ipython3",
   "version": "3.9.13"
  }
 },
 "nbformat": 4,
 "nbformat_minor": 5
}
